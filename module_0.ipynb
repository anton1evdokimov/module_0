{
 "cells": [
  {
   "cell_type": "code",
   "execution_count": 11,
   "metadata": {},
   "outputs": [
    {
     "name": "stdout",
     "output_type": "stream",
     "text": [
      "7\n"
     ]
    }
   ],
   "source": [
    "def game_core(number):\n",
    "    '''Посик начинаем с середины интервала, а потом уменьшаем или увеличиваем его \n",
    "       в зависимости от того, больше оно или меньше нужного.\n",
    "       Функция принимает загаданное число и возвращает число попыток'''\n",
    "    count = 1\n",
    "    predict = 50\n",
    "    delta = 25\n",
    "    \n",
    "    while number != predict:\n",
    "        count += 1\n",
    "        if number > predict: \n",
    "            predict += delta            \n",
    "        elif number < predict: \n",
    "            predict -= delta\n",
    "        delta = int(delta/2) + 1\n",
    "    \n",
    "    return(count) # выход из цикла, если угадали\n",
    "\n",
    "print(game_core(10))"
   ]
  }
 ],
 "metadata": {
  "kernelspec": {
   "display_name": "Python 3",
   "language": "python",
   "name": "python3"
  }
 },
 "nbformat": 4,
 "nbformat_minor": 4
}
